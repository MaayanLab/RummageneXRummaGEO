{
 "cells": [
  {
   "cell_type": "code",
   "execution_count": null,
   "metadata": {},
   "outputs": [],
   "source": [
    "from crossing import preprop_GMTs, cross_GMTs, cross_GMTs_rummageo_first\n",
    "import pandas as pd\n",
    "import time\n",
    "from tqdm import tqdm \n",
    "import os\n",
    "import numpy as np"
   ]
  },
  {
   "cell_type": "code",
   "execution_count": null,
   "metadata": {},
   "outputs": [],
   "source": [
    "preprop_GMTs(\"data/latest.gmt\", \"data/rummagene\")\n",
    "preprop_GMTs(\"data/human-geo-auto.gmt.gz\", \"data/rummageo_human\")\n",
    "preprop_GMTs(\"data/mouse-geo-auto.gmt.gz\", \"data/rummageo_mouse\")\n"
   ]
  },
  {
   "cell_type": "code",
   "execution_count": null,
   "metadata": {},
   "outputs": [],
   "source": [
    "rummagene = pd.read_csv(\"data/rummagene.csv\")\n",
    "rummageo_h = pd.read_csv(\"data/rummageo_human.csv\")\n",
    "rummageo_m = pd.read_csv(\"data/rummageo_mouse.csv\")\n",
    "rummageo_h[\"species\"] = \"human\"\n",
    "rummageo_m[\"species\"] = \"mouse\"\n",
    "rummageo_comb = pd.concat([rummageo_h, rummageo_m],  ignore_index=True)\n",
    "rummageo_comb.to_csv(\"rummageo_comb.csv\", index=False)\n",
    "rummageo_comb.to_csv(\"data/rummageo_comb.csv\", index=False)\n",
    "rummageo_comb = pd.read_csv(\"data/rummageo_comb.csv\")\n"
   ]
  },
  {
   "cell_type": "code",
   "execution_count": null,
   "metadata": {},
   "outputs": [],
   "source": [
    "def rummagene_exists(df, file_path, column=\"identifier\"):\n",
    "    \"takes df and removes from its given column terms already present in file_path to avoid running crossing that is already done\"\n",
    "    if not os.path.isfile(file_path):\n",
    "        open(file_path, 'w').close()  \n",
    "    \n",
    "    with open(file_path, 'r') as file:\n",
    "        existing_elements = {line.strip() for line in file}\n",
    "    \n",
    "    filtered_df = df[~df[column].isin(existing_elements)]\n",
    "    return filtered_df\n",
    "\n",
    "\n",
    "def rummageo_exists(df, file_path, column=\"identifier\"):\n",
    "    \"takes df and removes from its given column terms already present in file_path to avoid running crossing that is already done\"\n",
    "    if not os.path.isfile(file_path):\n",
    "        open(file_path, 'w').close()  \n",
    "    \n",
    "    with open(file_path, 'r') as file:\n",
    "        existing_elements = {line.strip() for line in file}\n",
    "    \n",
    "    filtered_df = df[~df[column].isin(existing_elements)]\n",
    "    return filtered_df"
   ]
  },
  {
   "cell_type": "code",
   "execution_count": null,
   "metadata": {},
   "outputs": [],
   "source": [
    "def cross_files(rumma_geo, output_prefix, record_file):\n",
    "    batch_size = 3000  \n",
    "    num_batches = (len(rummagene) // batch_size) + 1\n",
    "    rummageo_dict = {row_inner[\"identifier\"]: set(row_inner[\"genes\"].split(\";\")) for index_inner, row_inner in rumma_geo.iterrows()}\n",
    "\n",
    "    for i in range(num_batches):\n",
    "        start = time.time()\n",
    "        start_idx = i * batch_size\n",
    "        end_idx = start_idx + batch_size\n",
    "        batch_n = rummagene[start_idx:end_idx]\n",
    "        main_dict = {} #maps rummagene name to rummageo genes\n",
    "        desc_dict ={} #maps rummagene name to rummagene table description\n",
    "        batch = rummagene_exists(batch_n, record_file)\n",
    "        if len(batch) != 0:\n",
    "            print(f\"This is {len(batch)} rows\")\n",
    "            for index, row in tqdm(batch.iterrows(), total=batch.shape[0]):\n",
    "                main_dict[row[\"identifier\"]] = set(row['genes'].split(\";\"))\n",
    "                desc_dict[row['identifier']] = row[\"desc\"]\n",
    "            if  len(main_dict) > 0:\n",
    "                cross_GMTs(main_dict,desc_dict, rummageo_dict, output_prefix, record_file)\n",
    "\n",
    "        else:\n",
    "            print(\"O batch\")\n",
    "        elapsed_time = time.time() - start\n",
    "        print(f\"batch_done:  {int(elapsed_time // 3600)}hr, {int((elapsed_time % 3600) // 60)}min, {int(elapsed_time % 60)}sec\")\n",
    "        print(i)\n",
    "        print(num_batches)\n",
    "\n",
    "        \n",
    "cross_files(rummageo_h,\"data/rummageogene_human\", \"data/rummagene_h.txt\")\n",
    "cross_files(rummageo_m,\"data/rummageogene_mouse\", \"data/rummagene_m.txt\")\n"
   ]
  },
  {
   "cell_type": "code",
   "execution_count": null,
   "metadata": {},
   "outputs": [],
   "source": [
    "def cross_files_rummageo_first(rummagene, output_prefix, record_file):\n",
    "    batch_size = 800\n",
    "    num_batches = (len(rummageo_comb) // batch_size) + 1\n",
    "    print(num_batches)\n",
    "    desc_dict ={} #maps rummagene name to rummagene table description\n",
    "    rummagene_dict = {row_inner[\"identifier\"]: set(row_inner[\"genes\"].split(\";\")) for index_inner, row_inner in rummagene.iterrows()}\n",
    "\n",
    "    for index, row in tqdm(rummagene.iterrows(), total=rummagene.shape[0]):\n",
    "            desc_dict[row['identifier']] = row[\"desc\"]\n",
    "\n",
    "    for i in range(358, num_batches):\n",
    "        start = time.time()\n",
    "        start_idx = i * batch_size\n",
    "        end_idx = start_idx + batch_size\n",
    "        batch_n = rummageo_comb[start_idx:end_idx]\n",
    "        main_dict = {} #maps rummageo name to rummagene genes\n",
    "        batch = rummageo_exists(batch_n, record_file)\n",
    "        if len(batch) != 0:\n",
    "            print(f\"This is {len(batch)} rows\")\n",
    "            for index, row in tqdm(batch.iterrows(), total=batch.shape[0]):\n",
    "                main_dict[row[\"identifier\"]] = set(row['genes'].split(\";\"))\n",
    "            if  len(main_dict) > 0:\n",
    "                cross_GMTs_rummageo_first(main_dict,desc_dict, rummagene_dict, output_prefix, record_file)\n",
    "        else:\n",
    "            print(\"O batch\")\n",
    "        elapsed_time = time.time() - start\n",
    "        print(f\"batch_done:  {int(elapsed_time // 3600)}hr, {int((elapsed_time % 3600) // 60)}min, {int(elapsed_time % 60)}sec\")\n",
    "        print(i)\n",
    "        print(num_batches)\n",
    "        \n",
    "cross_files_rummageo_first(rummagene,\"data/rummageogene_rummageo_first\", \"data/rummageo_comb.txt\")"
   ]
  },
  {
   "cell_type": "code",
   "execution_count": null,
   "metadata": {},
   "outputs": [],
   "source": [
    "human = pd.read_csv(\"data/rummageogene_human.csv\")\n",
    "human[\"species\"] = \"human\"\n",
    "mouse = pd.read_csv(\"data/rummageogene_mouse.csv\")\n",
    "mouse[\"species\"] = \"mouse\"\n",
    "dfe = pd.read_csv(\"data/rummageogene_rummageo_first.csv\")\n",
    "df = pd.concat([human, mouse, dfe], ignore_index=False)\n",
    "df = df.drop_duplicates(subset=[\"rummagene\", \"rummageo\"])\n",
    "df = df.sort_values(by=[\"p-value\", \"odds\"], ascending=[True, False])\n",
    "df.index = np.arange(1, len(df.index)+1)\n",
    "df"
   ]
  },
  {
   "cell_type": "code",
   "execution_count": null,
   "metadata": {},
   "outputs": [],
   "source": [
    "df.to_csv('data/rummagenexrummageo.csv', index=False)\n"
   ]
  }
 ],
 "metadata": {
  "kernelspec": {
   "display_name": "myvenv",
   "language": "python",
   "name": "python3"
  },
  "language_info": {
   "codemirror_mode": {
    "name": "ipython",
    "version": 3
   },
   "file_extension": ".py",
   "mimetype": "text/x-python",
   "name": "python",
   "nbconvert_exporter": "python",
   "pygments_lexer": "ipython3",
   "version": "3.10.15"
  }
 },
 "nbformat": 4,
 "nbformat_minor": 2
}
