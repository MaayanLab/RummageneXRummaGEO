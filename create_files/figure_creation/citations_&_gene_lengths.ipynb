{
 "cells": [
  {
   "cell_type": "code",
   "execution_count": null,
   "metadata": {},
   "outputs": [],
   "source": [
    "import os\n",
    "import tqdm\n",
    "import time\n",
    "import pandas as pd\n",
    "import numpy as np\n"
   ]
  },
  {
   "cell_type": "code",
   "execution_count": null,
   "metadata": {},
   "outputs": [],
   "source": [
    "parent_dir = os.path.abspath('../')\n",
    "parent_dir"
   ]
  },
  {
   "cell_type": "code",
   "execution_count": null,
   "metadata": {},
   "outputs": [],
   "source": [
    "df = pd.read_csv(f\"{parent_dir}/rummagenexrummageo.csv\")\n",
    "\n",
    "df = df['overlaps']\n",
    "lst = set()\n",
    "for ele in df:\n",
    "    r = ele.split(\";\")\n",
    "    lst.update(r)\n",
    "with open(\"data/genes.txt\", 'w') as file:\n",
    "    file.writelines(f\"{rummageo}\\n\" for rummageo in lst)\n",
    "with open(\"data/genes.txt\", 'r') as file:\n",
    "    lines = file.readlines()\n",
    "\n",
    "lst = set([line.strip() for line in lines])\n",
    "\n",
    "\n"
   ]
  },
  {
   "cell_type": "code",
   "execution_count": null,
   "metadata": {},
   "outputs": [],
   "source": [
    "from Bio import Entrez\n",
    "Entrez.email = os.getenv('EMAIL')\n",
    "Entrez.api_key = os.getenv('API_KEY')\n",
    "from tqdm import tqdm\n",
    "\n",
    "\n",
    "\n",
    "def get_all_genes(path, name):\n",
    "    lst = set()\n",
    "    nom = set()\n",
    "    k = pd.read_csv(f'data/pubmed_rif_{name}.csv')\n",
    "    nom = set(k[\"gene\"])\n",
    "    for ele in path:\n",
    "        r = ele.split(\";\")\n",
    "        lst.update(r)\n",
    "    print(len(lst))\n",
    "    lst = lst.difference(nom)\n",
    "    print(len(lst))\n",
    "    return lst\n",
    "\n",
    "\n",
    "def find_citations(genes, name):\n",
    "   db = 'pubmed'\n",
    "   domain = 'https://www.ncbi.nlm.nih.gov/entrez/eutils'\n",
    "   retmode='json'\n",
    "\n",
    "\n",
    "   with open(f'data/pubmed_rif_{name}.csv', 'a') as f:\n",
    "       for g in tqdm(genes, desc=\"Processing\"):\n",
    "           query = g\n",
    "           handle = Entrez.esearch(db=\"pubmed\", retmax=9999999 ,term=g, idtype=\"acc\")\n",
    "           record = Entrez.read(handle)\n",
    "           handle.close()\n",
    "           f.write(f\"{g},{len(record['IdList'])}\\n\")\n",
    "           time.sleep(1)\n",
    "   print(\"done\")\n",
    "\n",
    "genes = get_all_genes(lst, \"all\")\n"
   ]
  },
  {
   "cell_type": "code",
   "execution_count": null,
   "metadata": {},
   "outputs": [],
   "source": [
    "find_citations(genes, \"all\")"
   ]
  },
  {
   "cell_type": "code",
   "execution_count": null,
   "metadata": {},
   "outputs": [],
   "source": [
    "df = pd.read_csv(f\"{parent_dir}/rummagenexrummageo.csv\")\n",
    "df = df.sort_values(by=[\"p-value\", \"odds\"], ascending=[True, False])\n",
    "df = df.head(1000000)\n",
    "df\n",
    "\n"
   ]
  },
  {
   "cell_type": "code",
   "execution_count": null,
   "metadata": {},
   "outputs": [],
   "source": [
    "from collections import Counter\n",
    "\n",
    "def make_words_df(df, species):\n",
    "    if species != \"all\":\n",
    "        dfe = df.loc[df[\"species\"] == species]\n",
    "    else:\n",
    "        dfe = df\n",
    "    split_lists = dfe['overlaps'].str.split(';')\n",
    "    flattened_list = [item for sublist in split_lists for item in sublist]\n",
    "\n",
    "    word_counts = Counter(flattened_list)\n",
    "    word_counts_df = pd.DataFrame(word_counts.items(), columns=['gene', 'count_file'])\n",
    "    word_counts_df.to_csv(f\"data/all_word_df.csv\", index=False)\n",
    "make_words_df(df, \"all\")"
   ]
  },
  {
   "cell_type": "code",
   "execution_count": null,
   "metadata": {},
   "outputs": [],
   "source": [
    "import matplotlib.pyplot as plt\n",
    "import pandas as pd\n",
    "import matplotlib.gridspec as gridspec\n",
    "from matplotlib.lines import Line2D\n",
    "import numpy as np\n",
    "from matplotlib import colors as mcolors"
   ]
  },
  {
   "cell_type": "code",
   "execution_count": null,
   "metadata": {},
   "outputs": [],
   "source": [
    "import numpy as np\n",
    "from scipy.spatial import distance_matrix\n",
    "\n",
    "\n",
    "df1 = pd.read_csv(\"data/all_word_df.csv\")\n",
    "df2 = pd.read_csv(\"data/pubmed_rif_all.csv\")\n",
    "lala = pd.merge(df1, df2, on=\"gene\")\n",
    "\n",
    "# Panel a: Scatter plot of Set Appearances vs Citations\n",
    "plt.figure(figsize=(10, 8), dpi=300)\n",
    "column_x = lala[\"count_file\"]\n",
    "column_y = lala[\"citations\"]\n",
    "gene = lala[\"gene\"]\n",
    "plt.scatter(column_x, column_y, alpha=0.5, color=\"black\")\n",
    "\n",
    "plt.xlabel('Set Appearances', fontsize=24)\n",
    "plt.ylabel('Citations', fontsize=24)\n",
    "plt.xscale('log')\n",
    "plt.yticks(fontsize=18)\n",
    "plt.xticks(fontsize=18)\n",
    "plt.tight_layout()\n",
    "plt.savefig(\"figures/gene_count_citation2.png\", dpi=300)\n",
    "plt.savefig(\"figures/gene_count_citation2.pdf\", dpi=300)\n",
    "plt.show()"
   ]
  },
  {
   "cell_type": "code",
   "execution_count": null,
   "metadata": {},
   "outputs": [],
   "source": [
    "plt.figure(figsize=(10, 8), dpi=300)\n",
    "numbers = df[\"n-overlap\"]\n",
    "plt.hist(numbers, bins=50, color=\"black\")\n",
    "plt.xlabel('Gene Set Length', fontsize=24)\n",
    "plt.ylabel('Frequency', fontsize=24)\n",
    "\n",
    "plt.yticks(fontsize=18)\n",
    "plt.xticks(fontsize=18)\n",
    "plt.tight_layout()\n",
    "plt.savefig(\"figures/gene_length.png\", dpi=300)\n",
    "plt.savefig(\"figures/gene_length.pdf\", dpi=300)\n",
    "plt.show()\n"
   ]
  },
  {
   "cell_type": "code",
   "execution_count": null,
   "metadata": {},
   "outputs": [],
   "source": [
    "print(df[\"n-overlap\"].mean())\n",
    "print(df[\"n-overlap\"].median())\n",
    "print(df[\"n-overlap\"].mode())\n",
    "print(df[\"n-overlap\"].std())\n",
    "print(df[\"n-overlap\"].max())\n",
    "print(df[\"n-overlap\"].min())"
   ]
  }
 ],
 "metadata": {
  "kernelspec": {
   "display_name": "myvenv",
   "language": "python",
   "name": "python3"
  },
  "language_info": {
   "codemirror_mode": {
    "name": "ipython",
    "version": 3
   },
   "file_extension": ".py",
   "mimetype": "text/x-python",
   "name": "python",
   "nbconvert_exporter": "python",
   "pygments_lexer": "ipython3",
   "version": "3.10.15"
  }
 },
 "nbformat": 4,
 "nbformat_minor": 2
}
